{
 "cells": [
  {
   "cell_type": "markdown",
   "metadata": {},
   "source": [
    "# Eurovision 2018\n",
    "On 12 May 2018, I gathered a collection of my friends together at my home for a Eurovision watching party. We do something similar every year, but this year we took things a step further.\n",
    "\n",
    "As the contest began, I handed out sheets of paper and pencils to everyone, and asked them to give each country a score out of ten on three scales - song, performance and staging. Everyone was a bit bemused, but did it anyway, and I ended up with a huge dataset of 1092 individual votes. I promised I'd analyse it all, and this is me fulfilling my promise, seven months later.\n",
    "\n",
    "I'm going to import pandas to help me analyse it."
   ]
  },
  {
   "cell_type": "code",
   "execution_count": 2,
   "metadata": {},
   "outputs": [],
   "source": [
    "import pandas as pd\n",
    "from scipy import stats"
   ]
  },
  {
   "cell_type": "markdown",
   "metadata": {},
   "source": [
    "Now I'm going to grab the data, which is stored locally."
   ]
  },
  {
   "cell_type": "code",
   "execution_count": 92,
   "metadata": {},
   "outputs": [
    {
     "data": {
      "text/html": [
       "<div>\n",
       "<style scoped>\n",
       "    .dataframe tbody tr th:only-of-type {\n",
       "        vertical-align: middle;\n",
       "    }\n",
       "\n",
       "    .dataframe tbody tr th {\n",
       "        vertical-align: top;\n",
       "    }\n",
       "\n",
       "    .dataframe thead th {\n",
       "        text-align: right;\n",
       "    }\n",
       "</style>\n",
       "<table border=\"1\" class=\"dataframe\">\n",
       "  <thead>\n",
       "    <tr style=\"text-align: right;\">\n",
       "      <th></th>\n",
       "      <th>voter</th>\n",
       "      <th>order</th>\n",
       "      <th>country</th>\n",
       "      <th>title</th>\n",
       "      <th>artist</th>\n",
       "      <th>language</th>\n",
       "      <th>officialpoints</th>\n",
       "      <th>event</th>\n",
       "      <th>score_cat</th>\n",
       "      <th>score</th>\n",
       "    </tr>\n",
       "  </thead>\n",
       "  <tbody>\n",
       "    <tr>\n",
       "      <th>0</th>\n",
       "      <td>chris</td>\n",
       "      <td>1</td>\n",
       "      <td>Ukraine</td>\n",
       "      <td>\"Under the Ladder\"</td>\n",
       "      <td>Mélovin</td>\n",
       "      <td>English</td>\n",
       "      <td>130</td>\n",
       "      <td>final</td>\n",
       "      <td>song</td>\n",
       "      <td>5.0</td>\n",
       "    </tr>\n",
       "    <tr>\n",
       "      <th>1</th>\n",
       "      <td>chris</td>\n",
       "      <td>2</td>\n",
       "      <td>Spain</td>\n",
       "      <td>\"Tu canción\"</td>\n",
       "      <td>Amaia &amp; Alfred</td>\n",
       "      <td>Spanish</td>\n",
       "      <td>61</td>\n",
       "      <td>final</td>\n",
       "      <td>song</td>\n",
       "      <td>4.0</td>\n",
       "    </tr>\n",
       "    <tr>\n",
       "      <th>2</th>\n",
       "      <td>chris</td>\n",
       "      <td>3</td>\n",
       "      <td>Slovenia</td>\n",
       "      <td>\"Hvala, ne!\"</td>\n",
       "      <td>Lea Sirk</td>\n",
       "      <td>Slovene</td>\n",
       "      <td>64</td>\n",
       "      <td>final</td>\n",
       "      <td>song</td>\n",
       "      <td>6.0</td>\n",
       "    </tr>\n",
       "    <tr>\n",
       "      <th>3</th>\n",
       "      <td>chris</td>\n",
       "      <td>4</td>\n",
       "      <td>Lithuania</td>\n",
       "      <td>\"When We're Old\"</td>\n",
       "      <td>Ieva Zasimauskaitė</td>\n",
       "      <td>English</td>\n",
       "      <td>181</td>\n",
       "      <td>final</td>\n",
       "      <td>song</td>\n",
       "      <td>3.0</td>\n",
       "    </tr>\n",
       "    <tr>\n",
       "      <th>4</th>\n",
       "      <td>chris</td>\n",
       "      <td>5</td>\n",
       "      <td>Austria</td>\n",
       "      <td>\"Nobody but You\"</td>\n",
       "      <td>Cesár Sampson</td>\n",
       "      <td>English</td>\n",
       "      <td>342</td>\n",
       "      <td>final</td>\n",
       "      <td>song</td>\n",
       "      <td>8.0</td>\n",
       "    </tr>\n",
       "  </tbody>\n",
       "</table>\n",
       "</div>"
      ],
      "text/plain": [
       "   voter  order    country               title              artist language  \\\n",
       "0  chris      1    Ukraine  \"Under the Ladder\"             Mélovin  English   \n",
       "1  chris      2      Spain        \"Tu canción\"      Amaia & Alfred  Spanish   \n",
       "2  chris      3   Slovenia        \"Hvala, ne!\"            Lea Sirk  Slovene   \n",
       "3  chris      4  Lithuania    \"When We're Old\"  Ieva Zasimauskaitė  English   \n",
       "4  chris      5    Austria    \"Nobody but You\"       Cesár Sampson  English   \n",
       "\n",
       "   officialpoints  event score_cat  score  \n",
       "0             130  final      song    5.0  \n",
       "1              61  final      song    4.0  \n",
       "2              64  final      song    6.0  \n",
       "3             181  final      song    3.0  \n",
       "4             342  final      song    8.0  "
      ]
     },
     "execution_count": 92,
     "metadata": {},
     "output_type": "execute_result"
    }
   ],
   "source": [
    "votes = pd.read_csv(\"eurovision/eurovision.csv\")\n",
    "votes.head()"
   ]
  },
  {
   "cell_type": "markdown",
   "metadata": {},
   "source": [
    "It would also be useful to have a dataset that merges all the individual votes into a score for each person for each song."
   ]
  },
  {
   "cell_type": "code",
   "execution_count": 82,
   "metadata": {},
   "outputs": [
    {
     "data": {
      "text/html": [
       "<div>\n",
       "<style scoped>\n",
       "    .dataframe tbody tr th:only-of-type {\n",
       "        vertical-align: middle;\n",
       "    }\n",
       "\n",
       "    .dataframe tbody tr th {\n",
       "        vertical-align: top;\n",
       "    }\n",
       "\n",
       "    .dataframe thead th {\n",
       "        text-align: right;\n",
       "    }\n",
       "</style>\n",
       "<table border=\"1\" class=\"dataframe\">\n",
       "  <thead>\n",
       "    <tr style=\"text-align: right;\">\n",
       "      <th></th>\n",
       "      <th>voter</th>\n",
       "      <th>order</th>\n",
       "      <th>country</th>\n",
       "      <th>title</th>\n",
       "      <th>artist</th>\n",
       "      <th>language</th>\n",
       "      <th>officialpoints</th>\n",
       "      <th>score</th>\n",
       "    </tr>\n",
       "  </thead>\n",
       "  <tbody>\n",
       "    <tr>\n",
       "      <th>0</th>\n",
       "      <td>chris</td>\n",
       "      <td>1</td>\n",
       "      <td>Ukraine</td>\n",
       "      <td>\"Under the Ladder\"</td>\n",
       "      <td>Mélovin</td>\n",
       "      <td>English</td>\n",
       "      <td>130</td>\n",
       "      <td>6.666667</td>\n",
       "    </tr>\n",
       "    <tr>\n",
       "      <th>1</th>\n",
       "      <td>chris</td>\n",
       "      <td>2</td>\n",
       "      <td>Spain</td>\n",
       "      <td>\"Tu canción\"</td>\n",
       "      <td>Amaia &amp; Alfred</td>\n",
       "      <td>Spanish</td>\n",
       "      <td>61</td>\n",
       "      <td>4.000000</td>\n",
       "    </tr>\n",
       "    <tr>\n",
       "      <th>2</th>\n",
       "      <td>chris</td>\n",
       "      <td>3</td>\n",
       "      <td>Slovenia</td>\n",
       "      <td>\"Hvala, ne!\"</td>\n",
       "      <td>Lea Sirk</td>\n",
       "      <td>Slovene</td>\n",
       "      <td>64</td>\n",
       "      <td>6.666667</td>\n",
       "    </tr>\n",
       "    <tr>\n",
       "      <th>3</th>\n",
       "      <td>chris</td>\n",
       "      <td>4</td>\n",
       "      <td>Lithuania</td>\n",
       "      <td>\"When We're Old\"</td>\n",
       "      <td>Ieva Zasimauskaitė</td>\n",
       "      <td>English</td>\n",
       "      <td>181</td>\n",
       "      <td>4.000000</td>\n",
       "    </tr>\n",
       "    <tr>\n",
       "      <th>4</th>\n",
       "      <td>chris</td>\n",
       "      <td>5</td>\n",
       "      <td>Austria</td>\n",
       "      <td>\"Nobody but You\"</td>\n",
       "      <td>Cesár Sampson</td>\n",
       "      <td>English</td>\n",
       "      <td>342</td>\n",
       "      <td>6.666667</td>\n",
       "    </tr>\n",
       "  </tbody>\n",
       "</table>\n",
       "</div>"
      ],
      "text/plain": [
       "   voter  order    country               title              artist language  \\\n",
       "0  chris      1    Ukraine  \"Under the Ladder\"             Mélovin  English   \n",
       "1  chris      2      Spain        \"Tu canción\"      Amaia & Alfred  Spanish   \n",
       "2  chris      3   Slovenia        \"Hvala, ne!\"            Lea Sirk  Slovene   \n",
       "3  chris      4  Lithuania    \"When We're Old\"  Ieva Zasimauskaitė  English   \n",
       "4  chris      5    Austria    \"Nobody but You\"       Cesár Sampson  English   \n",
       "\n",
       "   officialpoints     score  \n",
       "0             130  6.666667  \n",
       "1              61  4.000000  \n",
       "2              64  6.666667  \n",
       "3             181  4.000000  \n",
       "4             342  6.666667  "
      ]
     },
     "execution_count": 82,
     "metadata": {},
     "output_type": "execute_result"
    }
   ],
   "source": [
    "scoreslist = []\n",
    "\n",
    "for voter in votes.voter.unique():\n",
    "    for country in votes.country.unique():\n",
    "        row = []\n",
    "        row.append(voter)\n",
    "        row.append(votes[(votes.country == country)].order.tolist()[0])\n",
    "        row.append(country)\n",
    "        row.append(votes[(votes.country == country)].title.tolist()[0])\n",
    "        row.append(votes[(votes.country == country)].artist.tolist()[0])\n",
    "        row.append(votes[(votes.country == country)].language.tolist()[0])\n",
    "        row.append(votes[(votes.country == country)].officialpoints.tolist()[0])\n",
    "        row.append(votes[(votes.country == country) & (votes.voter == voter)].score.mean())\n",
    "        \n",
    "        scoreslist.append(row)\n",
    "        \n",
    "scores = pd.DataFrame(scoreslist, columns = [\"voter\",\"order\",\"country\",\"title\",\"artist\",\"language\",\"officialpoints\",\"score\"])\n",
    "scores.head()"
   ]
  },
  {
   "cell_type": "markdown",
   "metadata": {},
   "source": [
    "---\n",
    "## Who won?\n",
    "\n",
    "The first thing I wanted to do with the data was crown a winner from the votes at the party. As you probably remember, Israel's bonkers entry - Toy by Netta - took the prize at the official event, followed by Cyprus then Austria. But what would prove the most popular with the voters in my living room?"
   ]
  },
  {
   "cell_type": "code",
   "execution_count": 38,
   "metadata": {},
   "outputs": [
    {
     "data": {
      "text/plain": [
       "country\n",
       "Israel            309.0\n",
       "Finland           292.0\n",
       "Austria           282.0\n",
       "Ireland           269.0\n",
       "Czech Republic    266.0\n",
       "Name: score, dtype: float64"
      ]
     },
     "execution_count": 38,
     "metadata": {},
     "output_type": "execute_result"
    }
   ],
   "source": [
    "votes.groupby(\"country\").score.sum().sort_values(ascending = False).head()"
   ]
  },
  {
   "cell_type": "markdown",
   "metadata": {},
   "source": [
    "It's not really a surprise that Netta took the first place at our little awards ceremony too. It was an incredible performance. But what was a surprise was the popularity of Finland's entry, Monsters by Saara Aalto. It came second-to-last in the official votes, but we put it second. Similarly, Europe loved Cyprus' entry, Fuego by Eleni Fourerira, but we didn't think it was much good at all."
   ]
  },
  {
   "cell_type": "markdown",
   "metadata": {},
   "source": [
    "---\n",
    "## Who won in each category?\n",
    "\n",
    "One of the nice things about getting people to score in terms of song, performance and staging is that we could crown a winner in each category."
   ]
  },
  {
   "cell_type": "code",
   "execution_count": 51,
   "metadata": {},
   "outputs": [
    {
     "data": {
      "text/plain": [
       "country\n",
       "Austria      7.928571\n",
       "Germany      6.785714\n",
       "Australia    6.714286\n",
       "Portugal     6.642857\n",
       "Ireland      6.500000\n",
       "Name: score, dtype: float64"
      ]
     },
     "execution_count": 51,
     "metadata": {},
     "output_type": "execute_result"
    }
   ],
   "source": [
    "votes[votes.score_cat == \"song\"].groupby(\"country\").score.sum().sort_values(ascending = False).head()"
   ]
  },
  {
   "cell_type": "code",
   "execution_count": 41,
   "metadata": {},
   "outputs": [
    {
     "data": {
      "text/plain": [
       "country\n",
       "Israel            118.0\n",
       "Czech Republic    102.0\n",
       "Austria            99.0\n",
       "Finland            99.0\n",
       "Hungary            98.0\n",
       "Name: score, dtype: float64"
      ]
     },
     "execution_count": 41,
     "metadata": {},
     "output_type": "execute_result"
    }
   ],
   "source": [
    "votes[votes.score_cat == \"performance\"].groupby(\"country\").score.sum().sort_values(ascending = False).head()"
   ]
  },
  {
   "cell_type": "code",
   "execution_count": 42,
   "metadata": {},
   "outputs": [
    {
     "data": {
      "text/plain": [
       "country\n",
       "Israel            7.928571\n",
       "Finland           7.357143\n",
       "Moldova           7.142857\n",
       "Czech Republic    6.785714\n",
       "Ukraine           6.642857\n",
       "Name: score, dtype: float64"
      ]
     },
     "execution_count": 42,
     "metadata": {},
     "output_type": "execute_result"
    }
   ],
   "source": [
    "votes[votes.score_cat == \"staging\"].groupby(\"country\").score.mean().sort_values(ascending = False).head()"
   ]
  },
  {
   "cell_type": "markdown",
   "metadata": {},
   "source": [
    "Our jury felt that Austria clearly had the best song, but Israel's scores in performance and staging gave it the victory.\n",
    "\n",
    "    A thought for next year: is it right to weight song, performance and staging equally? Should one category have more weight? It is a \"song\" contest after all.\n",
    "\n",
    "What's perhaps surprising is that Israel's song score ended up rather low. Netta came twelfth in that category. Austria's performance score was up there with its song score but the staging left a lot to be desired, according to our voters. One other interesting discrepancy I'd like to note is Moldova's similarly bonkers song, which scored in the top three for staging, but a lot lower in song and performance."
   ]
  },
  {
   "cell_type": "markdown",
   "metadata": {},
   "source": [
    "---\n",
    "## Is it better to sing in English?\n",
    "\n",
    "A persistent question at Eurovision over the years is the importance of singing in English, which is generally the lingua franca of Europe. In 2018, about two thirds of songs were in English, and the rest were in their native languages. The only oddity was Estonia's entry, where Elina Nechayeva performed the operatic La Forza in Italian."
   ]
  },
  {
   "cell_type": "code",
   "execution_count": 55,
   "metadata": {
    "scrolled": true
   },
   "outputs": [
    {
     "data": {
      "text/html": [
       "<div>\n",
       "<style scoped>\n",
       "    .dataframe tbody tr th:only-of-type {\n",
       "        vertical-align: middle;\n",
       "    }\n",
       "\n",
       "    .dataframe tbody tr th {\n",
       "        vertical-align: top;\n",
       "    }\n",
       "\n",
       "    .dataframe thead th {\n",
       "        text-align: right;\n",
       "    }\n",
       "</style>\n",
       "<table border=\"1\" class=\"dataframe\">\n",
       "  <thead>\n",
       "    <tr style=\"text-align: right;\">\n",
       "      <th></th>\n",
       "      <th>country</th>\n",
       "      <th>language</th>\n",
       "      <th>score</th>\n",
       "    </tr>\n",
       "  </thead>\n",
       "  <tbody>\n",
       "    <tr>\n",
       "      <th>0</th>\n",
       "      <td>Ukraine</td>\n",
       "      <td>English</td>\n",
       "      <td>5.80952</td>\n",
       "    </tr>\n",
       "    <tr>\n",
       "      <th>1</th>\n",
       "      <td>Spain</td>\n",
       "      <td>Spanish</td>\n",
       "      <td>4.69048</td>\n",
       "    </tr>\n",
       "    <tr>\n",
       "      <th>2</th>\n",
       "      <td>Slovenia</td>\n",
       "      <td>Slovene</td>\n",
       "      <td>6.16667</td>\n",
       "    </tr>\n",
       "    <tr>\n",
       "      <th>3</th>\n",
       "      <td>Lithuania</td>\n",
       "      <td>English</td>\n",
       "      <td>4.2619</td>\n",
       "    </tr>\n",
       "    <tr>\n",
       "      <th>4</th>\n",
       "      <td>Austria</td>\n",
       "      <td>English</td>\n",
       "      <td>6.71429</td>\n",
       "    </tr>\n",
       "  </tbody>\n",
       "</table>\n",
       "</div>"
      ],
      "text/plain": [
       "     country language    score\n",
       "0    Ukraine  English  5.80952\n",
       "1      Spain  Spanish  4.69048\n",
       "2   Slovenia  Slovene  6.16667\n",
       "3  Lithuania  English   4.2619\n",
       "4    Austria  English  6.71429"
      ]
     },
     "execution_count": 55,
     "metadata": {},
     "output_type": "execute_result"
    }
   ],
   "source": [
    "languages = pd.DataFrame(columns = [\"country\", \"language\", \"score\"])\n",
    "languages.country = scores.country.unique()\n",
    "languages.language = scores.language[0:26]\n",
    "\n",
    "for country in scores.country.unique():\n",
    "    score = scores[scores.country == country].score.mean()\n",
    "    languages.loc[languages.country == country, \"score\"] = score\n",
    "    \n",
    "languages.head()"
   ]
  },
  {
   "cell_type": "code",
   "execution_count": 103,
   "metadata": {},
   "outputs": [
    {
     "data": {
      "text/plain": [
       "5.727591036414568"
      ]
     },
     "execution_count": 103,
     "metadata": {},
     "output_type": "execute_result"
    },
    {
     "data": {
      "image/png": "[encoded data removed]",
      "text/plain": [
       "<Figure size 432x288 with 1 Axes>"
      ]
     },
     "metadata": {
      "needs_background": "light"
     },
     "output_type": "display_data"
    }
   ],
   "source": [
    "scores[scores.language == \"English\"].score.hist( bins = 10).set_xlim((0,10.5))\n",
    "scores[scores.language == \"English\"].score.mean()"
   ]
  },
  {
   "cell_type": "code",
   "execution_count": 100,
   "metadata": {},
   "outputs": [
    {
     "data": {
      "text/plain": [
       "5.25661375661376"
      ]
     },
     "execution_count": 100,
     "metadata": {},
     "output_type": "execute_result"
    },
    {
     "data": {
      "image/png": "[encoded data removed]",
      "text/plain": [
       "<Figure size 432x288 with 1 Axes>"
      ]
     },
     "metadata": {
      "needs_background": "light"
     },
     "output_type": "display_data"
    }
   ],
   "source": [
    "scores[scores.language != \"English\"].score.hist(bins = 10).set_xlim((0,10.5))\n",
    "scores[scores.language != \"English\"].score.mean()"
   ]
  },
  {
   "cell_type": "markdown",
   "metadata": {},
   "source": [
    "Our data suggests that, among our voters at least, it is better to sing in English. Songs in English averaged a score of 5.73, while songs not in English got a mean score of 5.26."
   ]
  },
  {
   "cell_type": "code",
   "execution_count": 109,
   "metadata": {},
   "outputs": [
    {
     "data": {
      "text/plain": [
       "MannwhitneyuResult(statistic=12664.5, pvalue=0.0072895936163901946)"
      ]
     },
     "execution_count": 109,
     "metadata": {},
     "output_type": "execute_result"
    }
   ],
   "source": [
    "english = scores[scores.language == \"English\"].score.tolist()\n",
    "notenglish = scores[scores.language != \"English\"].score.tolist()\n",
    "stats.mannwhitneyu(english, notenglish)"
   ]
  },
  {
   "cell_type": "markdown",
   "metadata": {},
   "source": [
    "Doing a Mann-Whitney U-test (because we can't quite assume they're normally distributed, even though I suspect they are) with a significance level of 0.01 indicates that this is a statistically significant difference.\n",
    "\n",
    "---\n",
    "## Does the order of performance affect the scores?\n",
    "\n",
    "In Eurovision, the conventional wisdom is that going first is really bad because people will have forgotten you by the time they vote. Is that true in our group? We can find out by taking a look at a scatterplot of the running order and the scores we gave."
   ]
  },
  {
   "cell_type": "code",
   "execution_count": 134,
   "metadata": {},
   "outputs": [
    {
     "data": {
      "text/plain": [
       "<matplotlib.axes._subplots.AxesSubplot at 0x1a260c1e80>"
      ]
     },
     "execution_count": 134,
     "metadata": {},
     "output_type": "execute_result"
    },
    {
     "data": {
      "image/png": "[encoded data removed]",
      "text/plain": [
       "<Figure size 432x288 with 1 Axes>"
      ]
     },
     "metadata": {
      "needs_background": "light"
     },
     "output_type": "display_data"
    }
   ],
   "source": [
    "order = pd.DataFrame()\n",
    "order[\"country\"] = votes.country.unique()\n",
    "order[\"order\"] = votes.order.unique()\n",
    "order[\"score\"] = pd.to_numeric(languages.score)\n",
    "\n",
    "order.plot(kind=\"scatter\", x=\"order\", y=\"score\")"
   ]
  },
  {
   "cell_type": "markdown",
   "metadata": {},
   "source": [
    "What a mess. There's no obvious trend here, but running a simple linear regression gives us a very slight positive correlation of 0.02. That means that a song that goes last might accumulate about half a point more, across all voters and categories, than one which goes first."
   ]
  },
  {
   "cell_type": "code",
   "execution_count": 136,
   "metadata": {},
   "outputs": [
    {
     "data": {
      "text/plain": [
       "array([0.02474969, 5.23043956])"
      ]
     },
     "execution_count": 136,
     "metadata": {},
     "output_type": "execute_result"
    }
   ],
   "source": [
    "import numpy as np\n",
    "regression = np.polyfit(order.order, order.score, 1)\n",
    "regression"
   ]
  },
  {
   "cell_type": "markdown",
   "metadata": {},
   "source": [
    "This sorta makes sense, as people might not want to give away very high scores right at the start but might be more comfortable doing that later on. But honestly, the variance in the data is so high that I'm not confident calling this a real finding. It might just be the case that it skewed positive because Israel and Finland were near the end. The only conclusion I'd be comfortable with here is that the order of performance didn't really affect the scores from our voters at all."
   ]
  },
  {
   "cell_type": "markdown",
   "metadata": {},
   "source": [
    "---\n",
    "## Who awarded the most points?\n",
    "\n",
    "Time to turn our attention to the voters, rather than the countries. Different people have different internal ratings systems, and I deliberately didn't tell people how they should allocate their points. Here's a bar chart showing how many points different voters gave out over the whole night."
   ]
  },
  {
   "cell_type": "code",
   "execution_count": 141,
   "metadata": {},
   "outputs": [
    {
     "data": {
      "text/plain": [
       "<matplotlib.axes._subplots.AxesSubplot at 0x1a26326f98>"
      ]
     },
     "execution_count": 141,
     "metadata": {},
     "output_type": "execute_result"
    },
    {
     "data": {
      "image/png": "[encoded data removed]",
      "text/plain": [
       "<Figure size 432x288 with 1 Axes>"
      ]
     },
     "metadata": {
      "needs_background": "light"
     },
     "output_type": "display_data"
    }
   ],
   "source": [
    "votes.groupby(\"voter\").score.sum().sort_values(ascending = True).plot(kind=\"barh\")"
   ]
  },
  {
   "cell_type": "markdown",
   "metadata": {},
   "source": [
    "Despoina, Scott and Nikos were the most generous voters. The least generous were Chris, Nataša and Kennet\n",
    "\n",
    "---\n",
    "## Do people vote higher or lower for their own country?\n",
    "\n",
    "Some people are full of patriotic spirit. Others less so. We can see who gave an above-average score to their own country by subtracting the score they gave to that country from the average vote that others gave it.\n",
    "\n",
    "In this analysis, I had to leave out Anton, Nikos & Despoina, whose countries didn't make it to the final, and Scott & Aurora, whose country doesn't participate in Eurovision (yet). Sorry folks!"
   ]
  },
  {
   "cell_type": "code",
   "execution_count": 160,
   "metadata": {},
   "outputs": [
    {
     "data": {
      "text/html": [
       "<div>\n",
       "<style scoped>\n",
       "    .dataframe tbody tr th:only-of-type {\n",
       "        vertical-align: middle;\n",
       "    }\n",
       "\n",
       "    .dataframe tbody tr th {\n",
       "        vertical-align: top;\n",
       "    }\n",
       "\n",
       "    .dataframe thead th {\n",
       "        text-align: right;\n",
       "    }\n",
       "</style>\n",
       "<table border=\"1\" class=\"dataframe\">\n",
       "  <thead>\n",
       "    <tr style=\"text-align: right;\">\n",
       "      <th></th>\n",
       "      <th>voter</th>\n",
       "      <th>country</th>\n",
       "      <th>own_votes</th>\n",
       "      <th>others_votes</th>\n",
       "      <th>difference</th>\n",
       "    </tr>\n",
       "  </thead>\n",
       "  <tbody>\n",
       "    <tr>\n",
       "      <th>12</th>\n",
       "      <td>nataša</td>\n",
       "      <td>Austria</td>\n",
       "      <td>1.74359</td>\n",
       "      <td>-1.19026</td>\n",
       "      <td>2.93385</td>\n",
       "    </tr>\n",
       "    <tr>\n",
       "      <th>9</th>\n",
       "      <td>eva</td>\n",
       "      <td>Sweden</td>\n",
       "      <td>2.17949</td>\n",
       "      <td>-0.00153846</td>\n",
       "      <td>2.18103</td>\n",
       "    </tr>\n",
       "    <tr>\n",
       "      <th>13</th>\n",
       "      <td>silfa</td>\n",
       "      <td>Austria</td>\n",
       "      <td>0.307692</td>\n",
       "      <td>-0.759487</td>\n",
       "      <td>1.06718</td>\n",
       "    </tr>\n",
       "    <tr>\n",
       "      <th>2</th>\n",
       "      <td>duncan</td>\n",
       "      <td>United Kingdom</td>\n",
       "      <td>1.28205</td>\n",
       "      <td>0.709231</td>\n",
       "      <td>0.572821</td>\n",
       "    </tr>\n",
       "    <tr>\n",
       "      <th>8</th>\n",
       "      <td>kennet</td>\n",
       "      <td>Sweden</td>\n",
       "      <td>-1.41026</td>\n",
       "      <td>-1.22205</td>\n",
       "      <td>-0.188205</td>\n",
       "    </tr>\n",
       "    <tr>\n",
       "      <th>10</th>\n",
       "      <td>josefin</td>\n",
       "      <td>Sweden</td>\n",
       "      <td>-1.05128</td>\n",
       "      <td>-0.346154</td>\n",
       "      <td>-0.705128</td>\n",
       "    </tr>\n",
       "    <tr>\n",
       "      <th>0</th>\n",
       "      <td>chris</td>\n",
       "      <td>Sweden</td>\n",
       "      <td>-1.76923</td>\n",
       "      <td>-0.776923</td>\n",
       "      <td>-0.992308</td>\n",
       "    </tr>\n",
       "    <tr>\n",
       "      <th>1</th>\n",
       "      <td>karl</td>\n",
       "      <td>Sweden</td>\n",
       "      <td>-1.76923</td>\n",
       "      <td>0.0271795</td>\n",
       "      <td>-1.79641</td>\n",
       "    </tr>\n",
       "    <tr>\n",
       "      <th>5</th>\n",
       "      <td>frida</td>\n",
       "      <td>Sweden</td>\n",
       "      <td>-2.84615</td>\n",
       "      <td>0.228205</td>\n",
       "      <td>-3.07436</td>\n",
       "    </tr>\n",
       "  </tbody>\n",
       "</table>\n",
       "</div>"
      ],
      "text/plain": [
       "      voter         country own_votes others_votes difference\n",
       "12   nataša         Austria   1.74359     -1.19026    2.93385\n",
       "9       eva          Sweden   2.17949  -0.00153846    2.18103\n",
       "13    silfa         Austria  0.307692    -0.759487    1.06718\n",
       "2    duncan  United Kingdom   1.28205     0.709231   0.572821\n",
       "8    kennet          Sweden  -1.41026     -1.22205  -0.188205\n",
       "10  josefin          Sweden  -1.05128    -0.346154  -0.705128\n",
       "0     chris          Sweden  -1.76923    -0.776923  -0.992308\n",
       "1      karl          Sweden  -1.76923    0.0271795   -1.79641\n",
       "5     frida          Sweden  -2.84615     0.228205   -3.07436"
      ]
     },
     "execution_count": 160,
     "metadata": {},
     "output_type": "execute_result"
    }
   ],
   "source": [
    "own_country = pd.DataFrame(columns = [\"voter\", \"country\", \"own_votes\", \"others_votes\", \"difference\"])\n",
    "own_country.voter = votes.voter.unique()\n",
    "\n",
    "# These are the countries of each voter\n",
    "own_country.country = [\"Sweden\",\"Sweden\",\"United Kingdom\",\"Greece\",\"Greece\",\"Sweden\",\"Canada\",\"Russia\",\"Sweden\",\"Sweden\",\"Sweden\",\"Canada\",\"Austria\",\"Austria\"]\n",
    "\n",
    "for the_voter in own_country.voter.unique(): # Loop over all the voters\n",
    "    \n",
    "    # Grab the country they live in\n",
    "    the_country = own_country[own_country.voter == the_voter].country.values[0]\n",
    "    \n",
    "    # If that country was in the final\n",
    "    if the_country in votes.country.unique():\n",
    "        \n",
    "        # Calculate difference between that voter's score and the average score for each song\n",
    "        diffs = []\n",
    "        for country in votes.country.unique():\n",
    "            ownmean = votes[(votes.voter == the_voter) & (votes.country == country)].score.mean(axis = 0)\n",
    "            othermean = votes[(votes.voter != the_voter) & (votes.country == country)].score.mean(axis = 0)\n",
    "            \n",
    "            if (country == the_country):\n",
    "                own_diff = ownmean - othermean\n",
    "            else:\n",
    "                diffs.append(ownmean - othermean)\n",
    "        \n",
    "        avg_diff = pd.Series(diffs).mean()                                                                                              \n",
    "\n",
    "        # Put these numbers in the dataframe)\n",
    "        own_country.loc[own_country.voter == the_voter, \"own_votes\"] = own_diff\n",
    "        own_country.loc[own_country.voter == the_voter, \"others_votes\"] = avg_diff\n",
    "        \n",
    "own_country.difference = own_country.own_votes - own_country.others_votes\n",
    "\n",
    "own_country.sort_values(\"difference\", ascending=False).dropna()"
   ]
  },
  {
   "cell_type": "code",
   "execution_count": 158,
   "metadata": {},
   "outputs": [
    {
     "data": {
      "text/plain": [
       "<matplotlib.axes._subplots.AxesSubplot at 0x1a2674f9e8>"
      ]
     },
     "execution_count": 158,
     "metadata": {},
     "output_type": "execute_result"
    },
    {
     "data": {
      "image/png": "[encoded data removed]",
      "text/plain": [
       "<Figure size 432x288 with 1 Axes>"
      ]
     },
     "metadata": {
      "needs_background": "light"
     },
     "output_type": "display_data"
    }
   ],
   "source": [
    "own_country.sort_values(\"difference\", ascending=True).dropna().plot(kind = \"barh\", x = \"voter\", y = \"difference\", legend = False)"
   ]
  },
  {
   "cell_type": "markdown",
   "metadata": {},
   "source": [
    "Of the people whose countries were in the final, Nataša, Eva, Silfa and Duncan ranked their country higher than others did, while Frida, Karl, Chris, Josefin and Kennet (just about) ranked their country lower than others did. What did Sweden ever do to you, Frida?"
   ]
  },
  {
   "cell_type": "markdown",
   "metadata": {},
   "source": [
    "---\n",
    "## Whose votes represented Europe best?\n",
    "\n",
    "Our scores had some similarities with the final scores given by the entirety of Europe, but they also some major differences (looking at you, Finland and Cyprus). I wanted to know - who in the room was closest to the pulse of Europe's musical taste?\n",
    "\n",
    "To figure this out, I compared everyone's country rankings with the country rankings for Europe, using [Kendall's rank correlation method](https://en.wikipedia.org/wiki/Kendall_rank_correlation_coefficient). This spits out a number from 1 (exact match) to -1 (total opposite)."
   ]
  },
  {
   "cell_type": "code",
   "execution_count": 168,
   "metadata": {},
   "outputs": [
    {
     "data": {
      "text/plain": [
       "<matplotlib.axes._subplots.AxesSubplot at 0x1a26e93fd0>"
      ]
     },
     "execution_count": 168,
     "metadata": {},
     "output_type": "execute_result"
    },
    {
     "data": {
      "image/png": "[encoded data removed]",
      "text/plain": [
       "<Figure size 432x288 with 1 Axes>"
      ]
     },
     "metadata": {
      "needs_background": "light"
     },
     "output_type": "display_data"
    }
   ],
   "source": [
    "ranks = pd.DataFrame()\n",
    "ranks[\"country\"] = votes.country.unique()\n",
    "ranks[\"officialpoints\"] = votes.officialpoints[0:25].rank(method=\"min\", ascending=False).astype(int)\n",
    "\n",
    "for voter in votes.voter.unique(): # for each voter\n",
    "\n",
    "    points_list = [] # create an empty list to hold points in\n",
    "\n",
    "    for country in votes.country.unique(): # for each country\n",
    "        points_list.append(votes[(votes.country == country) & (votes.voter == voter)].score.sum(axis = 0))\n",
    "        \n",
    "    ranks[voter] = pd.Series(points_list).rank(method=\"min\", ascending=False)\n",
    "    ranks[voter] = ranks[voter].astype(int)\n",
    "\n",
    "correlations = ranks.set_index('country').corr(method = \"kendall\")\n",
    "\n",
    "correlations.officialpoints[1:].sort_values(ascending=False).plot(kind=\"bar\")"
   ]
  },
  {
   "cell_type": "markdown",
   "metadata": {},
   "source": [
    "---\n",
    "## Who voted similarly?\n",
    "\n",
    "Using the same principle, we can see whose votes correlated most closely. For each voter, we can get their top three matches."
   ]
  },
  {
   "cell_type": "code",
   "execution_count": 180,
   "metadata": {},
   "outputs": [
    {
     "name": "stdout",
     "output_type": "stream",
     "text": [
      "chris - karl, aurora, frida\n",
      "\n",
      "karl - silfa, chris, frida\n",
      "\n",
      "duncan - silfa, eva, anton\n",
      "\n",
      "nikos - despoina, nataša, kennet\n",
      "\n",
      "despoina - nikos, kennet, duncan\n",
      "\n",
      "frida - aurora, kennet, eva\n",
      "\n",
      "scott - kennet, aurora, frida\n",
      "\n",
      "anton - nataša, duncan, silfa\n",
      "\n",
      "kennet - frida, scott, eva\n",
      "\n",
      "eva - josefin, duncan, frida\n",
      "\n",
      "josefin - eva, aurora, frida\n",
      "\n",
      "aurora - frida, chris, josefin\n",
      "\n",
      "nataša - anton, duncan, nikos\n",
      "\n",
      "silfa - duncan, karl, frida\n",
      "\n"
     ]
    }
   ],
   "source": [
    "for voter in votes.voter.unique():\n",
    "    matches = correlations.sort_values(voter, ascending=False)[voter].index[1:4]\n",
    "    \n",
    "    print (voter + \" - \" + matches[0] + \", \" + matches[1] + \", \" + matches[2])\n",
    "    print (\"\")"
   ]
  },
  {
   "cell_type": "markdown",
   "metadata": {},
   "source": [
    "We can visualise that in a network chart.\n",
    "\n",
    "<img src=\"http://www.duncangeere.com/eurovision2018/images/influence.png\" width = 600>\n",
    "\n",
    "Woah. I think it's really interesting to compare this to who sat next to each other in the room. Here's a photo from the evening that I hope Karl doesn't mind me using! (Aurora's not in it because she took the photo).\n",
    "\n",
    "<img src=\"http://www.duncangeere.com/eurovision2018/images/seatingplan.jpg\" width = 600>"
   ]
  },
  {
   "cell_type": "markdown",
   "metadata": {},
   "source": [
    "---\n",
    "## Taking it too far\n",
    "\n",
    "There's a technique we can borrow from machine learning which looks for patterns in the data and tries to cluster voters into groups based on how similar their voting was. It's called k-means clustering, and it involves an element of randomness, so take all this next bit with a pinch of salt. Every time you run it, it gives slightly different answers."
   ]
  },
  {
   "cell_type": "code",
   "execution_count": 184,
   "metadata": {},
   "outputs": [
    {
     "name": "stdout",
     "output_type": "stream",
     "text": [
      "Group 1\n",
      "=====\n",
      "       voter  group\n",
      "4      nikos      0\n",
      "5   despoina      0\n",
      "8      anton      0\n",
      "13    nataša      0\n",
      "\n",
      "\n",
      "Group 2\n",
      "=====\n",
      "     voter  group\n",
      "1    chris      1\n",
      "6    frida      1\n",
      "7    scott      1\n",
      "12  aurora      1\n",
      "\n",
      "\n",
      "Group 3\n",
      "=====\n",
      "     voter  group\n",
      "2     karl      2\n",
      "3   duncan      2\n",
      "14   silfa      2\n",
      "\n",
      "\n",
      "Group 4\n",
      "=====\n",
      "             voter  group\n",
      "0   officialpoints      3\n",
      "9           kennet      3\n",
      "10             eva      3\n",
      "11         josefin      3\n",
      "\n",
      "\n"
     ]
    }
   ],
   "source": [
    "from sklearn import cluster\n",
    "cluster.k_means(correlations, 4)\n",
    "\n",
    "groups = pd.DataFrame({\"voter\": correlations.columns, \"group\": cluster.k_means(correlations, 4)[1]})\n",
    "\n",
    "for group in [0,1,2,3]:\n",
    "    print(\"Group \" + str(group + 1))\n",
    "    print(\"=====\")\n",
    "    print(groups[groups[\"group\"] == group])\n",
    "    print(\"\\n\")"
   ]
  },
  {
   "cell_type": "markdown",
   "metadata": {},
   "source": [
    "We can see those groups in our network chart from above. They tend to follow the lines of maximum influence (but not in all cases). Again, as this has an element of randomnness it may not match the groups calculated above.\n",
    "\n",
    "<img src=\"http://www.duncangeere.com/eurovision2018/images/influence_groups.png\" width = 600>"
   ]
  },
  {
   "cell_type": "markdown",
   "metadata": {},
   "source": [
    "The final thing I'd like to do is look at what defines these groups, which I'm doing by comparing their average scores for each song with everyone else's average scores for each song. By doing this, we can find out the songs which defined that group's identity. These weren't the songs they voted highest or lowest, they were the ones they voted abnormally high or low compared to the rest of the group."
   ]
  },
  {
   "cell_type": "code",
   "execution_count": 190,
   "metadata": {},
   "outputs": [
    {
     "name": "stdout",
     "output_type": "stream",
     "text": [
      "group1\n",
      "=====\n",
      "Liked: Lithuania\n",
      "Disliked: Australia\n",
      "\n",
      "group2\n",
      "=====\n",
      "Liked: Albania\n",
      "Disliked: Lithuania\n",
      "\n",
      "group3\n",
      "=====\n",
      "Liked: Italy\n",
      "Disliked: Moldova\n",
      "\n",
      "group4\n",
      "=====\n",
      "Liked: Ukraine\n",
      "Disliked: Portugal\n",
      "\n"
     ]
    }
   ],
   "source": [
    "# Hardcode the groups based on the network chart above\n",
    "group1 = [1, \"chris\", \"frida\", \"eva\", \"josefin\", \"aurora\"]\n",
    "group2 = [2, \"anton\", \"nataša\"]\n",
    "group3 = [3, \"nikos\", \"despoina\", \"scott\", \"kennet\", \"officialpoints\"]\n",
    "group4 = [4, \"karl\", \"duncan\", \"silfa\"]\n",
    "\n",
    "votes[\"group\"] = None\n",
    "\n",
    "for the_group in [group1, group2, group3, group4]:\n",
    "    votes.loc[votes.voter.isin(the_group), \"group\"] = the_group[0]\n",
    "    \n",
    "# Making a dataframe\n",
    "group_comps = pd.DataFrame(columns=[\"country\", \"group1\", \"group2\", \"group3\", \"group4\"])\n",
    "group_comps.country = votes.country.unique()\n",
    "group_comps.set_index(\"country\", inplace = True) \n",
    "\n",
    "# Assign all the scores\n",
    "for country in group_comps.index:\n",
    "    group_comps.loc[group_comps.index == country, \"group1\"] = votes[votes.country == country].groupby(\"group\").score.mean()[1]\n",
    "    group_comps.loc[group_comps.index == country, \"group2\"] = votes[votes.country == country].groupby(\"group\").score.mean()[2]\n",
    "    group_comps.loc[group_comps.index == country, \"group3\"] = votes[votes.country == country].groupby(\"group\").score.mean()[3]\n",
    "    group_comps.loc[group_comps.index == country, \"group4\"] = votes[votes.country == country].groupby(\"group\").score.mean()[4]\n",
    "    \n",
    "# Now for each group we need to run through the countries \n",
    "# and compare their score with the average of all the others\n",
    "data = []\n",
    "for group in group_comps.columns:\n",
    "    \n",
    "    for country in group_comps.index:\n",
    "        \n",
    "        groupscore = group_comps.loc[country, group]\n",
    "        otherscore = group_comps[group_comps.index == country].drop(group, axis=1).mean(axis=1).item()\n",
    "        \n",
    "        data.append([group, country, groupscore - otherscore])\n",
    "\n",
    "group_diffs = pd.DataFrame(data, columns=[\"group\", \"country\", \"scorediff\"])\n",
    "\n",
    "# Print it all out              \n",
    "for group in group_diffs.group.unique():\n",
    "    print(group)\n",
    "    print(\"=====\")\n",
    "    print(\"Liked: \" + group_diffs[group_diffs.scorediff == group_diffs.groupby(\"group\").scorediff.max()[group]].country.item())\n",
    "    print(\"Disliked: \" + group_diffs[group_diffs.scorediff == group_diffs.groupby(\"group\").scorediff.min()[group]].country.item())\n",
    "    print(\"\")"
   ]
  },
  {
   "cell_type": "markdown",
   "metadata": {},
   "source": [
    "There's loads more that I could dig into in this data, but I've got to stop somewhere so I'll stop here. If there's anything in particular that you'd like me to look into in the data, drop me an email at radio.edit@gmail.com.\n",
    "\n",
    "Also, I'm a relative beginner at this kind of analysis, and it's the first time I've used some of these techniques, so if I've misrepresented something or got something plain wrong, then I'd love to hear about it. Again, drop me an email at radio.edit@gmail.com.\n",
    "\n",
    "Finally, thanks to all my voters, to Kevin Markham at dataschool.io for amazing Pandas tutorials, to Eden for CSS tips, to Thierry Koblenz for responsive YouTube video embed code, to Silfa for being the best partner-in-party-planning anyone could ever wish for, and to the Eurovision Song Contest for delivering all these joys into my life every year.\n",
    "\n",
    "- Duncan Geere, December 2018.\n"
   ]
  }
 ],
 "metadata": {
  "kernelspec": {
   "display_name": "Python 3",
   "language": "python",
   "name": "python3"
  },
  "language_info": {
   "codemirror_mode": {
    "name": "ipython",
    "version": 3
   },
   "file_extension": ".py",
   "mimetype": "text/x-python",
   "name": "python",
   "nbconvert_exporter": "python",
   "pygments_lexer": "ipython3",
   "version": "3.6.6"
  }
 },
 "nbformat": 4,
 "nbformat_minor": 2
}
